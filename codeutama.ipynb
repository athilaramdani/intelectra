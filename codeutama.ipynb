{
 "cells": [
  {
   "cell_type": "markdown",
   "metadata": {},
   "source": [
    "Setup & install library – kalau kamu pakai environment baru, install dulu CatBoost / LightGBM dan imbalanced-learn."
   ]
  },
  {
   "cell_type": "code",
   "execution_count": 1,
   "metadata": {},
   "outputs": [
    {
     "name": "stdout",
     "output_type": "stream",
     "text": [
      "^C\n"
     ]
    },
    {
     "name": "stdout",
     "output_type": "stream",
     "text": [
      "Defaulting to user installation because normal site-packages is not writeable\n",
      "Requirement already satisfied: pandas in c:\\users\\user\\appdata\\roaming\\python\\python311\\site-packages (2.2.3)\n",
      "Requirement already satisfied: numpy in c:\\users\\user\\appdata\\roaming\\python\\python311\\site-packages (2.2.3)\n",
      "Requirement already satisfied: scikit-learn in c:\\users\\user\\appdata\\roaming\\python\\python311\\site-packages (1.6.1)\n",
      "Collecting catboost\n",
      "  Downloading catboost-1.2.8-cp311-cp311-win_amd64.whl.metadata (1.5 kB)\n",
      "Collecting lightgbm\n",
      "  Downloading lightgbm-4.6.0-py3-none-win_amd64.whl.metadata (17 kB)\n",
      "Collecting imbalanced-learn\n",
      "  Downloading imbalanced_learn-0.13.0-py3-none-any.whl.metadata (8.8 kB)\n",
      "Requirement already satisfied: python-dateutil>=2.8.2 in c:\\users\\user\\appdata\\roaming\\python\\python311\\site-packages (from pandas) (2.9.0.post0)\n",
      "Requirement already satisfied: pytz>=2020.1 in c:\\users\\user\\appdata\\roaming\\python\\python311\\site-packages (from pandas) (2025.2)\n",
      "Requirement already satisfied: tzdata>=2022.7 in c:\\users\\user\\appdata\\roaming\\python\\python311\\site-packages (from pandas) (2025.2)\n",
      "Requirement already satisfied: scipy>=1.6.0 in c:\\users\\user\\appdata\\roaming\\python\\python311\\site-packages (from scikit-learn) (1.15.2)\n",
      "Requirement already satisfied: joblib>=1.2.0 in c:\\users\\user\\appdata\\roaming\\python\\python311\\site-packages (from scikit-learn) (1.5.1)\n",
      "Requirement already satisfied: threadpoolctl>=3.1.0 in c:\\users\\user\\appdata\\roaming\\python\\python311\\site-packages (from scikit-learn) (3.6.0)\n",
      "Collecting graphviz (from catboost)\n",
      "  Downloading graphviz-0.21-py3-none-any.whl.metadata (12 kB)\n",
      "Requirement already satisfied: matplotlib in c:\\users\\user\\appdata\\roaming\\python\\python311\\site-packages (from catboost) (3.10.1)\n",
      "Collecting plotly (from catboost)\n",
      "  Downloading plotly-6.2.0-py3-none-any.whl.metadata (8.5 kB)\n",
      "Requirement already satisfied: six in c:\\users\\user\\appdata\\roaming\\python\\python311\\site-packages (from catboost) (1.17.0)\n",
      "Collecting sklearn-compat<1,>=0.1 (from imbalanced-learn)\n",
      "  Downloading sklearn_compat-0.1.3-py3-none-any.whl.metadata (18 kB)\n",
      "Requirement already satisfied: contourpy>=1.0.1 in c:\\users\\user\\appdata\\roaming\\python\\python311\\site-packages (from matplotlib->catboost) (1.3.1)\n",
      "Requirement already satisfied: cycler>=0.10 in c:\\users\\user\\appdata\\roaming\\python\\python311\\site-packages (from matplotlib->catboost) (0.12.1)\n",
      "Requirement already satisfied: fonttools>=4.22.0 in c:\\users\\user\\appdata\\roaming\\python\\python311\\site-packages (from matplotlib->catboost) (4.56.0)\n",
      "Requirement already satisfied: kiwisolver>=1.3.1 in c:\\users\\user\\appdata\\roaming\\python\\python311\\site-packages (from matplotlib->catboost) (1.4.8)\n",
      "Requirement already satisfied: packaging>=20.0 in c:\\users\\user\\appdata\\roaming\\python\\python311\\site-packages (from matplotlib->catboost) (24.2)\n",
      "Requirement already satisfied: pillow>=8 in c:\\users\\user\\appdata\\roaming\\python\\python311\\site-packages (from matplotlib->catboost) (11.1.0)\n",
      "Requirement already satisfied: pyparsing>=2.3.1 in c:\\users\\user\\appdata\\roaming\\python\\python311\\site-packages (from matplotlib->catboost) (3.2.1)\n",
      "Collecting narwhals>=1.15.1 (from plotly->catboost)\n",
      "  Downloading narwhals-1.45.0-py3-none-any.whl.metadata (11 kB)\n",
      "Downloading catboost-1.2.8-cp311-cp311-win_amd64.whl (102.5 MB)\n",
      "   ---------------------------------------- 0.0/102.5 MB ? eta -:--:--\n",
      "   ---------------------------------------- 0.8/102.5 MB 5.6 MB/s eta 0:00:19\n",
      "    --------------------------------------- 1.8/102.5 MB 5.0 MB/s eta 0:00:21\n",
      "   - -------------------------------------- 3.1/102.5 MB 5.1 MB/s eta 0:00:20\n",
      "   - -------------------------------------- 4.2/102.5 MB 5.0 MB/s eta 0:00:20\n",
      "   -- ------------------------------------- 5.2/102.5 MB 5.1 MB/s eta 0:00:20\n",
      "   -- ------------------------------------- 6.3/102.5 MB 5.1 MB/s eta 0:00:19\n",
      "   -- ------------------------------------- 7.3/102.5 MB 5.0 MB/s eta 0:00:19\n",
      "   --- ------------------------------------ 8.4/102.5 MB 5.1 MB/s eta 0:00:19\n",
      "   --- ------------------------------------ 9.4/102.5 MB 5.0 MB/s eta 0:00:19\n",
      "   ---- ----------------------------------- 10.5/102.5 MB 5.0 MB/s eta 0:00:19\n",
      "   ---- ----------------------------------- 11.5/102.5 MB 5.0 MB/s eta 0:00:19\n",
      "   ---- ----------------------------------- 12.3/102.5 MB 5.0 MB/s eta 0:00:19\n",
      "   ----- ---------------------------------- 13.4/102.5 MB 5.0 MB/s eta 0:00:18\n",
      "   ----- ---------------------------------- 14.4/102.5 MB 5.0 MB/s eta 0:00:18\n",
      "   ------ --------------------------------- 16.0/102.5 MB 5.1 MB/s eta 0:00:17\n",
      "   ------ --------------------------------- 17.8/102.5 MB 5.4 MB/s eta 0:00:16\n",
      "   ------- -------------------------------- 19.9/102.5 MB 5.6 MB/s eta 0:00:15\n",
      "   -------- ------------------------------- 21.5/102.5 MB 5.8 MB/s eta 0:00:15\n",
      "   --------- ------------------------------ 23.3/102.5 MB 5.9 MB/s eta 0:00:14\n",
      "   --------- ------------------------------ 25.2/102.5 MB 6.1 MB/s eta 0:00:13\n",
      "   ---------- ----------------------------- 27.3/102.5 MB 6.3 MB/s eta 0:00:13\n",
      "   ----------- ---------------------------- 29.6/102.5 MB 6.5 MB/s eta 0:00:12\n",
      "   ------------ --------------------------- 31.7/102.5 MB 6.7 MB/s eta 0:00:11\n",
      "   ------------- -------------------------- 34.3/102.5 MB 6.9 MB/s eta 0:00:10\n",
      "   -------------- ------------------------- 36.7/102.5 MB 7.1 MB/s eta 0:00:10\n",
      "   --------------- ------------------------ 39.1/102.5 MB 7.2 MB/s eta 0:00:09\n",
      "   ---------------- ----------------------- 41.7/102.5 MB 7.4 MB/s eta 0:00:09\n",
      "   ----------------- ---------------------- 44.3/102.5 MB 7.6 MB/s eta 0:00:08\n",
      "   ------------------ --------------------- 46.9/102.5 MB 7.8 MB/s eta 0:00:08\n",
      "   ------------------- -------------------- 49.8/102.5 MB 8.0 MB/s eta 0:00:07\n",
      "   -------------------- ------------------- 52.7/102.5 MB 8.1 MB/s eta 0:00:07\n",
      "   --------------------- ------------------ 55.3/102.5 MB 8.3 MB/s eta 0:00:06\n",
      "   ---------------------- ----------------- 58.2/102.5 MB 8.4 MB/s eta 0:00:06\n",
      "   ----------------------- ---------------- 61.1/102.5 MB 8.6 MB/s eta 0:00:05\n",
      "   ------------------------ --------------- 64.0/102.5 MB 8.7 MB/s eta 0:00:05\n",
      "   -------------------------- ------------- 66.8/102.5 MB 8.9 MB/s eta 0:00:05\n",
      "   --------------------------- ------------ 69.7/102.5 MB 9.0 MB/s eta 0:00:04\n",
      "   ---------------------------- ----------- 72.6/102.5 MB 9.2 MB/s eta 0:00:04\n",
      "   ----------------------------- ---------- 75.2/102.5 MB 9.3 MB/s eta 0:00:03\n",
      "   ------------------------------ --------- 78.6/102.5 MB 9.4 MB/s eta 0:00:03\n",
      "   ------------------------------- -------- 81.8/102.5 MB 9.6 MB/s eta 0:00:03\n",
      "   --------------------------------- ------ 85.2/102.5 MB 9.7 MB/s eta 0:00:02\n",
      "   ---------------------------------- ----- 88.3/102.5 MB 9.9 MB/s eta 0:00:02\n",
      "   ----------------------------------- ---- 91.5/102.5 MB 10.0 MB/s eta 0:00:02\n",
      "   ------------------------------------ --- 94.6/102.5 MB 10.1 MB/s eta 0:00:01\n",
      "   -------------------------------------- - 97.8/102.5 MB 10.2 MB/s eta 0:00:01\n",
      "   --------------------------------------  101.4/102.5 MB 10.4 MB/s eta 0:00:01\n",
      "   --------------------------------------  102.2/102.5 MB 10.4 MB/s eta 0:00:01\n",
      "   --------------------------------------- 102.5/102.5 MB 10.2 MB/s eta 0:00:00\n",
      "Downloading lightgbm-4.6.0-py3-none-win_amd64.whl (1.5 MB)\n",
      "   ---------------------------------------- 0.0/1.5 MB ? eta -:--:--\n",
      "   ---------------------------------------- 1.5/1.5 MB 10.8 MB/s eta 0:00:00\n",
      "Downloading imbalanced_learn-0.13.0-py3-none-any.whl (238 kB)\n",
      "Downloading sklearn_compat-0.1.3-py3-none-any.whl (18 kB)\n",
      "Downloading graphviz-0.21-py3-none-any.whl (47 kB)\n",
      "Downloading plotly-6.2.0-py3-none-any.whl (9.6 MB)\n",
      "   ---------------------------------------- 0.0/9.6 MB ? eta -:--:--\n",
      "   ------------- -------------------------- 3.1/9.6 MB 16.8 MB/s eta 0:00:01\n",
      "   ---------------------------- ----------- 6.8/9.6 MB 16.8 MB/s eta 0:00:01\n",
      "   --------------------------------- ------ 8.1/9.6 MB 16.8 MB/s eta 0:00:01\n",
      "   ---------------------------------------  9.4/9.6 MB 13.3 MB/s eta 0:00:01\n",
      "   ---------------------------------------  9.4/9.6 MB 13.3 MB/s eta 0:00:01\n",
      "   ---------------------------------------  9.4/9.6 MB 13.3 MB/s eta 0:00:01\n",
      "   ---------------------------------------  9.4/9.6 MB 13.3 MB/s eta 0:00:01\n",
      "   ---------------------------------------- 9.6/9.6 MB 6.2 MB/s eta 0:00:00\n",
      "Downloading narwhals-1.45.0-py3-none-any.whl (371 kB)\n",
      "Installing collected packages: narwhals, graphviz, plotly, lightgbm, sklearn-compat, catboost, imbalanced-learn\n",
      "Successfully installed catboost-1.2.8 graphviz-0.21 imbalanced-learn-0.13.0 lightgbm-4.6.0 narwhals-1.45.0 plotly-6.2.0 sklearn-compat-0.1.3\n"
     ]
    },
    {
     "name": "stderr",
     "output_type": "stream",
     "text": [
      "\n",
      "[notice] A new release of pip is available: 25.0.1 -> 25.1.1\n",
      "[notice] To update, run: python.exe -m pip install --upgrade pip\n"
     ]
    }
   ],
   "source": [
    "%pip install pandas numpy scikit-learn catboost lightgbm imbalanced-learn"
   ]
  },
  {
   "cell_type": "markdown",
   "metadata": {},
   "source": [
    "Import library inti & set display options"
   ]
  },
  {
   "cell_type": "code",
   "execution_count": null,
   "metadata": {},
   "outputs": [],
   "source": [
    "import pandas as pd\n",
    "import numpy as np\n",
    "from pathlib import Path\n",
    "\n",
    "# modelling\n",
    "from sklearn.model_selection import train_test_split, StratifiedKFold, cross_val_score\n",
    "from sklearn.metrics import balanced_accuracy_score, confusion_matrix, classification_report\n",
    "from catboost import CatBoostClassifier\n",
    "from imblearn.over_sampling import SMOTE\n",
    "\n",
    "pd.set_option(\"display.max_columns\", None)\n",
    "DATA_DIR = Path(\"D:\\KULIAH\\Lomba\\Intelectra\\intelectra\\dataset\")        # ganti jika file ada di folder lain\n"
   ]
  },
  {
   "cell_type": "markdown",
   "metadata": {},
   "source": [
    "Load seluruh CSV"
   ]
  },
  {
   "cell_type": "code",
   "execution_count": null,
   "metadata": {},
   "outputs": [],
   "source": [
    "df_trans   = pd.read_csv(DATA_DIR / \"train_transaction_data.csv\")\n",
    "df_trans_t = pd.read_csv(DATA_DIR / \"test_transaction_data.csv\")\n",
    "df_member  = pd.read_csv(DATA_DIR / \"member_data.csv\")\n",
    "df_prod    = pd.read_csv(DATA_DIR / \"product_data.csv\")\n",
    "df_prog    = pd.read_csv(DATA_DIR / \"prodgram_data.csv\")\n",
    "df_label   = pd.read_csv(DATA_DIR / \"train_label_data.csv\")\n",
    "print(df_trans.shape, df_member.shape, df_prod.shape, df_prog.shape, df_label.shape)\n"
   ]
  },
  {
   "cell_type": "markdown",
   "metadata": {},
   "source": [
    "Quick EDA – cek proporsi label & preview data"
   ]
  },
  {
   "cell_type": "code",
   "execution_count": null,
   "metadata": {},
   "outputs": [],
   "source": [
    "print(\"Distribusi next_buy:\")\n",
    "print(df_label['next_buy'].value_counts(normalize=True))\n",
    "df_trans.head()"
   ]
  },
  {
   "cell_type": "markdown",
   "metadata": {},
   "source": [
    "Join relasional ke tabel training\n",
    "\n",
    "train_transaction ↔ member (MemberID)\n",
    "\n",
    "product (FK_PRODUCT_ID)\n",
    "\n",
    "program (FK_PROD_GRAM_ID)\n",
    "\n",
    "merge dengan train_label"
   ]
  },
  {
   "cell_type": "code",
   "execution_count": null,
   "metadata": {},
   "outputs": [],
   "source": [
    "train = (df_trans\n",
    "         .merge(df_member,  on='MemberID',      how='left')\n",
    "         .merge(df_prod,    left_on='FK_PRODUCT_ID',   right_on='productID',  how='left')\n",
    "         .merge(df_prog,    left_on='FK_PROD_GRAM_ID', right_on='programID',  how='left')\n",
    "         .merge(df_label,   on='MemberID',      how='left')\n",
    "        )\n",
    "\n",
    "test  = (df_trans_t\n",
    "         .merge(df_member,  on='MemberID',      how='left')\n",
    "         .merge(df_prod,    left_on='FK_PRODUCT_ID',   right_on='productID',  how='left')\n",
    "         .merge(df_prog,    left_on='FK_PROD_GRAM_ID', right_on='programID',  how='left')\n",
    "        )\n",
    "\n",
    "print(train.shape, test.shape)\n"
   ]
  },
  {
   "cell_type": "markdown",
   "metadata": {},
   "source": [
    "Feature Engineering ringkas\n",
    "\n",
    "TotalSpending = Qty * PricePerUnit\n",
    "\n",
    "datetime → Month, DayOfWeek, Recency\n",
    "\n",
    "MemberAge, MemberTenure\n",
    "\n",
    "drop kolom ID yang tak dipakai"
   ]
  },
  {
   "cell_type": "code",
   "execution_count": null,
   "metadata": {},
   "outputs": [],
   "source": [
    "def create_features(df, is_train=True):\n",
    "    df = df.copy()\n",
    "    # datetime\n",
    "    df['TransactionDatetime'] = pd.to_datetime(df['TransactionDatetime'])\n",
    "    df['Month']       = df['TransactionDatetime'].dt.month\n",
    "    df['DayOfWeek']   = df['TransactionDatetime'].dt.dayofweek\n",
    "    \n",
    "    # recency per Member\n",
    "    df.sort_values(['MemberID', 'TransactionDatetime'], inplace=True)\n",
    "    df['Recency'] = df.groupby('MemberID')['TransactionDatetime'].diff().dt.days\n",
    "    df['Recency'].fillna(df['Recency'].median(), inplace=True)\n",
    "    \n",
    "    # numeric conversions\n",
    "    df['Qty'] = pd.to_numeric(df['Qty'], errors='coerce')\n",
    "    df['TotalSpending'] = df['Qty'] * df['PricePerUnit']\n",
    "    \n",
    "    # member age & tenure\n",
    "    dob = pd.to_datetime(df['DateOfBirth'], errors='coerce')\n",
    "    df['MemberAge'] = (pd.Timestamp('today') - dob).dt.days // 365\n",
    "    joind = pd.to_datetime(df['JoinDate'], errors='coerce')\n",
    "    df['MemberTenure'] = (pd.Timestamp('today') - joind).dt.days\n",
    "    \n",
    "    # pilih fitur\n",
    "    keep_cols = ['MemberID','ProductCategory','ProductLevel','Source',\n",
    "                 'Qty','TotalSpending','Month','DayOfWeek','Recency',\n",
    "                 'MemberAge','MemberTenure']\n",
    "    if is_train:\n",
    "        keep_cols.append('next_buy')\n",
    "    return df[keep_cols]\n",
    "\n",
    "train_feat = create_features(train)\n",
    "test_feat  = create_features(test, is_train=False)\n"
   ]
  },
  {
   "cell_type": "markdown",
   "metadata": {},
   "source": [
    "Pre-processing – pisah X/y, handle imbalance (SMOTE), list kolom kategorikal"
   ]
  },
  {
   "cell_type": "code",
   "execution_count": null,
   "metadata": {},
   "outputs": [],
   "source": [
    "y = train_feat['next_buy']\n",
    "X = train_feat.drop(columns=['next_buy'])\n",
    "\n",
    "cat_cols = ['ProductCategory','ProductLevel','Source']\n",
    "for col in cat_cols:\n",
    "    X[col] = X[col].astype('category')\n",
    "    test_feat[col] = test_feat[col].astype('category')\n",
    "\n",
    "X_train, X_val, y_train, y_val = train_test_split(\n",
    "    X, y, test_size=0.2, stratify=y, random_state=42)\n",
    "\n",
    "# Optional SMOTE\n",
    "sm = SMOTE(random_state=42)\n",
    "X_train_res, y_train_res = sm.fit_resample(X_train, y_train)\n"
   ]
  },
  {
   "cell_type": "markdown",
   "metadata": {},
   "source": [
    "Model : CatBoost (karena handle kategori otomatis) + evaluasi Balanced Accuracy"
   ]
  },
  {
   "cell_type": "code",
   "execution_count": null,
   "metadata": {},
   "outputs": [],
   "source": [
    "model = CatBoostClassifier(\n",
    "    iterations=300,\n",
    "    depth=6,\n",
    "    learning_rate=0.1,\n",
    "    loss_function='Logloss',\n",
    "    eval_metric='BalancedAccuracy',\n",
    "    random_state=42,\n",
    "    verbose=False\n",
    ")\n",
    "\n",
    "model.fit(\n",
    "    X_train_res, y_train_res,\n",
    "    eval_set=(X_val, y_val),\n",
    "    cat_features=[X.columns.get_loc(c) for c in cat_cols],\n",
    "    verbose=100\n",
    ")\n",
    "\n",
    "pred_val = model.predict(X_val)\n",
    "print(\"Balanced Accuracy:\", balanced_accuracy_score(y_val, pred_val))\n",
    "print(classification_report(y_val, pred_val))\n"
   ]
  },
  {
   "cell_type": "markdown",
   "metadata": {},
   "source": [
    "Cross-validation 5-fold (optional, tapi disarankan)"
   ]
  },
  {
   "cell_type": "code",
   "execution_count": null,
   "metadata": {},
   "outputs": [],
   "source": [
    "cv = StratifiedKFold(n_splits=5, shuffle=True, random_state=42)\n",
    "scores = cross_val_score(\n",
    "    model, X, y, cv=cv, scoring='balanced_accuracy', n_jobs=-1)\n",
    "print(\"Balanced Acc 5-fold:\", scores.mean(), \"±\", scores.std())\n"
   ]
  },
  {
   "cell_type": "markdown",
   "metadata": {},
   "source": [
    "Fit ulang di seluruh data training + prediksi data test"
   ]
  },
  {
   "cell_type": "code",
   "execution_count": null,
   "metadata": {},
   "outputs": [],
   "source": [
    "model.fit(\n",
    "    X, y,\n",
    "    cat_features=[X.columns.get_loc(c) for c in cat_cols],\n",
    "    verbose=False\n",
    ")\n",
    "test_pred = model.predict(test_feat)\n"
   ]
  },
  {
   "cell_type": "markdown",
   "metadata": {},
   "source": [
    "Buat submission.csv – pastikan urutan MemberID sama dengan file sample"
   ]
  },
  {
   "cell_type": "code",
   "execution_count": null,
   "metadata": {},
   "outputs": [],
   "source": [
    "submission = pd.DataFrame({\n",
    "    'MemberID': test_feat['MemberID'],\n",
    "    'next_buy': test_pred.astype(int)\n",
    "})\n",
    "submission.to_csv('submission.csv', index=False)\n",
    "submission.head()\n"
   ]
  }
 ],
 "metadata": {
  "kernelspec": {
   "display_name": "Python 3",
   "language": "python",
   "name": "python3"
  },
  "language_info": {
   "codemirror_mode": {
    "name": "ipython",
    "version": 3
   },
   "file_extension": ".py",
   "mimetype": "text/x-python",
   "name": "python",
   "nbconvert_exporter": "python",
   "pygments_lexer": "ipython3",
   "version": "3.11.6"
  }
 },
 "nbformat": 4,
 "nbformat_minor": 2
}
