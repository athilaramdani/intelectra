{
 "cells": [
  {
   "cell_type": "markdown",
   "metadata": {},
   "source": [
    "Setup & install library – kalau kamu pakai environment baru, install dulu CatBoost / LightGBM dan imbalanced-learn."
   ]
  },
  {
   "cell_type": "code",
   "execution_count": null,
   "metadata": {},
   "outputs": [],
   "source": [
    "!pip install pandas numpy scikit-learn catboost lightgbm imbalanced-learn"
   ]
  },
  {
   "cell_type": "markdown",
   "metadata": {},
   "source": [
    "Import library inti & set display options"
   ]
  },
  {
   "cell_type": "code",
   "execution_count": null,
   "metadata": {},
   "outputs": [],
   "source": [
    "import pandas as pd\n",
    "import numpy as np\n",
    "from pathlib import Path\n",
    "\n",
    "# modelling\n",
    "from sklearn.model_selection import train_test_split, StratifiedKFold, cross_val_score\n",
    "from sklearn.metrics import balanced_accuracy_score, confusion_matrix, classification_report\n",
    "from catboost import CatBoostClassifier\n",
    "from imblearn.over_sampling import SMOTE\n",
    "\n",
    "pd.set_option(\"display.max_columns\", None)\n",
    "DATA_DIR = Path(\"F:\\lomba\\intelectra\\dataset\")        # ganti jika file ada di folder lain\n"
   ]
  },
  {
   "cell_type": "markdown",
   "metadata": {},
   "source": [
    "Load seluruh CSV"
   ]
  },
  {
   "cell_type": "code",
   "execution_count": null,
   "metadata": {},
   "outputs": [],
   "source": [
    "df_trans   = pd.read_csv(DATA_DIR / \"train_transaction_data.csv\")\n",
    "df_trans_t = pd.read_csv(DATA_DIR / \"test_transaction_data.csv\")\n",
    "df_member  = pd.read_csv(DATA_DIR / \"member_data.csv\")\n",
    "df_prod    = pd.read_csv(DATA_DIR / \"product_data.csv\")\n",
    "df_prog    = pd.read_csv(DATA_DIR / \"program_data.csv\")\n",
    "df_label   = pd.read_csv(DATA_DIR / \"train_label_data.csv\")\n",
    "print(df_trans.shape, df_member.shape, df_prod.shape, df_prog.shape, df_label.shape)\n"
   ]
  },
  {
   "cell_type": "markdown",
   "metadata": {},
   "source": [
    "Quick EDA – cek proporsi label & preview data"
   ]
  },
  {
   "cell_type": "code",
   "execution_count": null,
   "metadata": {},
   "outputs": [],
   "source": [
    "print(\"Distribusi next_buy:\")\n",
    "print(df_label['next_buy'].value_counts(normalize=True))\n",
    "df_trans.head()"
   ]
  },
  {
   "cell_type": "markdown",
   "metadata": {},
   "source": [
    "Join relasional ke tabel training\n",
    "\n",
    "train_transaction ↔ member (MemberID)\n",
    "\n",
    "product (FK_PRODUCT_ID)\n",
    "\n",
    "program (FK_PROD_GRAM_ID)\n",
    "\n",
    "merge dengan train_label"
   ]
  },
  {
   "cell_type": "code",
   "execution_count": null,
   "metadata": {},
   "outputs": [],
   "source": [
    "train = (df_trans\n",
    "         .merge(df_member,  on='MemberID',      how='left')\n",
    "         .merge(df_prod,    left_on='FK_PRODUCT_ID',   right_on='productID',  how='left')\n",
    "         .merge(df_prog,    left_on='FK_PROD_GRAM_ID', right_on='programID',  how='left')\n",
    "         .merge(df_label,   on='MemberID',      how='left')\n",
    "        )\n",
    "\n",
    "test  = (df_trans_t\n",
    "         .merge(df_member,  on='MemberID',      how='left')\n",
    "         .merge(df_prod,    left_on='FK_PRODUCT_ID',   right_on='productID',  how='left')\n",
    "         .merge(df_prog,    left_on='FK_PROD_GRAM_ID', right_on='programID',  how='left')\n",
    "        )\n",
    "\n",
    "print(train.shape, test.shape)\n"
   ]
  },
  {
   "cell_type": "markdown",
   "metadata": {},
   "source": [
    "Feature Engineering ringkas\n",
    "\n",
    "TotalSpending = Qty * PricePerUnit\n",
    "\n",
    "datetime → Month, DayOfWeek, Recency\n",
    "\n",
    "MemberAge, MemberTenure\n",
    "\n",
    "drop kolom ID yang tak dipakai"
   ]
  },
  {
   "cell_type": "code",
   "execution_count": null,
   "metadata": {},
   "outputs": [],
   "source": [
    "def create_features(df, is_train=True):\n",
    "    df = df.copy()\n",
    "    # datetime\n",
    "    df['TransactionDatetime'] = pd.to_datetime(df['TransactionDatetime'])\n",
    "    df['Month']       = df['TransactionDatetime'].dt.month\n",
    "    df['DayOfWeek']   = df['TransactionDatetime'].dt.dayofweek\n",
    "    \n",
    "    # recency per Member\n",
    "    df.sort_values(['MemberID', 'TransactionDatetime'], inplace=True)\n",
    "    df['Recency'] = df.groupby('MemberID')['TransactionDatetime'].diff().dt.days\n",
    "    df['Recency'].fillna(df['Recency'].median(), inplace=True)\n",
    "    \n",
    "    # numeric conversions\n",
    "    df['Qty'] = pd.to_numeric(df['Qty'], errors='coerce')\n",
    "    df['TotalSpending'] = df['Qty'] * df['PricePerUnit']\n",
    "    \n",
    "    # member age & tenure\n",
    "    dob = pd.to_datetime(df['DateOfBirth'], errors='coerce')\n",
    "    df['MemberAge'] = (pd.Timestamp('today') - dob).dt.days // 365\n",
    "    joind = pd.to_datetime(df['JoinDate'], errors='coerce')\n",
    "    df['MemberTenure'] = (pd.Timestamp('today') - joind).dt.days\n",
    "    \n",
    "    # pilih fitur\n",
    "    keep_cols = ['MemberID','ProductCategory','ProductLevel','Source',\n",
    "                 'Qty','TotalSpending','Month','DayOfWeek','Recency',\n",
    "                 'MemberAge','MemberTenure']\n",
    "    if is_train:\n",
    "        keep_cols.append('next_buy')\n",
    "    return df[keep_cols]\n",
    "\n",
    "train_feat = create_features(train)\n",
    "test_feat  = create_features(test, is_train=False)\n"
   ]
  },
  {
   "cell_type": "markdown",
   "metadata": {},
   "source": [
    "Pre-processing – pisah X/y, handle imbalance (SMOTE), list kolom kategorikal"
   ]
  },
  {
   "cell_type": "code",
   "execution_count": null,
   "metadata": {},
   "outputs": [],
   "source": [
    "y = train_feat['next_buy']\n",
    "X = train_feat.drop(columns=['next_buy'])\n",
    "\n",
    "cat_cols = ['ProductCategory','ProductLevel','Source']\n",
    "for col in cat_cols:\n",
    "    X[col] = X[col].astype('category')\n",
    "    test_feat[col] = test_feat[col].astype('category')\n",
    "\n",
    "X_train, X_val, y_train, y_val = train_test_split(\n",
    "    X, y, test_size=0.2, stratify=y, random_state=42)\n",
    "\n",
    "# Optional SMOTE\n",
    "sm = SMOTE(random_state=42)\n",
    "X_train_res, y_train_res = sm.fit_resample(X_train, y_train)\n"
   ]
  },
  {
   "cell_type": "markdown",
   "metadata": {},
   "source": [
    "Model : CatBoost (karena handle kategori otomatis) + evaluasi Balanced Accuracy"
   ]
  },
  {
   "cell_type": "code",
   "execution_count": null,
   "metadata": {},
   "outputs": [],
   "source": [
    "model = CatBoostClassifier(\n",
    "    iterations=300,\n",
    "    depth=6,\n",
    "    learning_rate=0.1,\n",
    "    loss_function='Logloss',\n",
    "    eval_metric='BalancedAccuracy',\n",
    "    random_state=42,\n",
    "    verbose=False\n",
    ")\n",
    "\n",
    "model.fit(\n",
    "    X_train_res, y_train_res,\n",
    "    eval_set=(X_val, y_val),\n",
    "    cat_features=[X.columns.get_loc(c) for c in cat_cols],\n",
    "    verbose=100\n",
    ")\n",
    "\n",
    "pred_val = model.predict(X_val)\n",
    "print(\"Balanced Accuracy:\", balanced_accuracy_score(y_val, pred_val))\n",
    "print(classification_report(y_val, pred_val))\n"
   ]
  },
  {
   "cell_type": "markdown",
   "metadata": {},
   "source": [
    "Cross-validation 5-fold (optional, tapi disarankan)"
   ]
  },
  {
   "cell_type": "code",
   "execution_count": null,
   "metadata": {},
   "outputs": [],
   "source": [
    "cv = StratifiedKFold(n_splits=5, shuffle=True, random_state=42)\n",
    "scores = cross_val_score(\n",
    "    model, X, y, cv=cv, scoring='balanced_accuracy', n_jobs=-1)\n",
    "print(\"Balanced Acc 5-fold:\", scores.mean(), \"±\", scores.std())\n"
   ]
  },
  {
   "cell_type": "markdown",
   "metadata": {},
   "source": [
    "Fit ulang di seluruh data training + prediksi data test"
   ]
  },
  {
   "cell_type": "code",
   "execution_count": null,
   "metadata": {},
   "outputs": [],
   "source": [
    "model.fit(\n",
    "    X, y,\n",
    "    cat_features=[X.columns.get_loc(c) for c in cat_cols],\n",
    "    verbose=False\n",
    ")\n",
    "test_pred = model.predict(test_feat)\n"
   ]
  },
  {
   "cell_type": "markdown",
   "metadata": {},
   "source": [
    "Buat submission.csv – pastikan urutan MemberID sama dengan file sample"
   ]
  },
  {
   "cell_type": "code",
   "execution_count": null,
   "metadata": {},
   "outputs": [],
   "source": [
    "submission = pd.DataFrame({\n",
    "    'MemberID': test_feat['MemberID'],\n",
    "    'next_buy': test_pred.astype(int)\n",
    "})\n",
    "submission.to_csv('submission.csv', index=False)\n",
    "submission.head()\n"
   ]
  }
 ],
 "metadata": {
  "kernelspec": {
   "display_name": "Python 3",
   "language": "python",
   "name": "python3"
  },
  "language_info": {
   "codemirror_mode": {
    "name": "ipython",
    "version": 3
   },
   "file_extension": ".py",
   "mimetype": "text/x-python",
   "name": "python",
   "nbconvert_exporter": "python",
   "pygments_lexer": "ipython3",
   "version": "3.11.9"
  }
 },
 "nbformat": 4,
 "nbformat_minor": 2
}
